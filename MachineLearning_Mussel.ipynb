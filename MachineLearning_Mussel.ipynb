{
 "cells": [
  {
   "cell_type": "code",
   "execution_count": 2,
   "id": "5de0b38c",
   "metadata": {},
   "outputs": [
    {
     "ename": "ImportError",
     "evalue": "cannot import name 'LinearRegression' from 'sklearn' (/opt/anaconda3/lib/python3.8/site-packages/sklearn/__init__.py)",
     "output_type": "error",
     "traceback": [
      "\u001b[0;31m---------------------------------------------------------------------------\u001b[0m",
      "\u001b[0;31mImportError\u001b[0m                               Traceback (most recent call last)",
      "\u001b[0;32m<ipython-input-2-dd23d8ab5ece>\u001b[0m in \u001b[0;36m<module>\u001b[0;34m\u001b[0m\n\u001b[1;32m      8\u001b[0m         \u001b[0;31m#hypothesize SupportVectorMachine will perform best\u001b[0m\u001b[0;34m\u001b[0m\u001b[0;34m\u001b[0m\u001b[0;34m\u001b[0m\u001b[0m\n\u001b[1;32m      9\u001b[0m \u001b[0;32mimport\u001b[0m \u001b[0msklearn\u001b[0m\u001b[0;34m\u001b[0m\u001b[0;34m\u001b[0m\u001b[0m\n\u001b[0;32m---> 10\u001b[0;31m \u001b[0;32mfrom\u001b[0m \u001b[0msklearn\u001b[0m \u001b[0;32mimport\u001b[0m \u001b[0mLinearRegression\u001b[0m\u001b[0;34m\u001b[0m\u001b[0;34m\u001b[0m\u001b[0m\n\u001b[0m\u001b[1;32m     11\u001b[0m \u001b[0;32mfrom\u001b[0m \u001b[0msklearn\u001b[0m\u001b[0;34m.\u001b[0m\u001b[0mmetrics\u001b[0m \u001b[0;32mimport\u001b[0m \u001b[0mr2_score\u001b[0m\u001b[0;34m\u001b[0m\u001b[0;34m\u001b[0m\u001b[0m\n\u001b[1;32m     12\u001b[0m \u001b[0;31m# assesses  number of false postives\u001b[0m\u001b[0;34m\u001b[0m\u001b[0;34m\u001b[0m\u001b[0;34m\u001b[0m\u001b[0m\n",
      "\u001b[0;31mImportError\u001b[0m: cannot import name 'LinearRegression' from 'sklearn' (/opt/anaconda3/lib/python3.8/site-packages/sklearn/__init__.py)"
     ]
    }
   ],
   "source": [
    "# Machine Learning\n",
    "import sklearn\n",
    "\n",
    "# Regression Hypothesis - Predict correct Temperature based on features\n",
    "# Linear Regression, Decision Tree, Random Forest, Lasso , Elastic Net,\n",
    "# Support Vector Machines (Linear/ RBF kernel ), KNearestNeighbors\n",
    "# All work well with small/medium datasets with few/moderate features\n",
    "        #hypothesize SupportVectorMachine will perform best\n",
    "import sklearn\n",
    "from sklearn import LinearRegression\n",
    "from sklearn.metrics import r2_score\n",
    "# assesses  number of false postives\n",
    "from sklearn.metrics import precision_score\n",
    "# assess number of true positives/ true negatives over total predictions\n",
    "from sklearn.metrics import accuracy_score\n",
    "# asseses number of false negatives\n",
    "from sklearn.metrics import recall_score\n",
    "\n",
    "#Clustering Hypothesis - clusters based on Temperature\n",
    "# K Means Clustering as standard model\n",
    "# DBSCAN since temperatures were averaged, many points in same vicinity\n",
    "# Mean Shift Clustering since its a smaller dataset\n",
    "# Affinity Propogation since many clusters will be of uneven size\n",
    "# Spectral Clustering due to natural growth of population under normal distribution\n",
    "        # hypothesize Spectral Model should do best\n",
    "from sklearn.cluster import KMeans\n",
    "# assesses whether clusters contain a single class (purity)\n",
    "from sklearn.metrics import homogeniety_score\n",
    "# assess  whether clusters contain all members of the same class (wholeness)\n",
    "from sklearn.metrics import completeness_score\n",
    "# harmonic mean of homogenity and completeness\n",
    "from sklearn.metrics import v_measure_score\n",
    "# similarity measure between clusters adjusted for chance\n",
    "from sklearn.metrics import adjusted_rand_score\n",
    "# similarity measure within clusters adjusted for chance\n",
    "from sklearn.metrics import adjusted_mutual_info_score\n",
    "# silhouette score needs no labels, measures self vs other relatedness\n",
    "from sklearn.metrics import silhouette_score\n",
    "\n",
    "# Dimensionality Reduction Hypothesis - Temperature change is more relevant\n",
    "                                        #short-term than pH\n",
    "#"
   ]
  },
  {
   "cell_type": "code",
   "execution_count": null,
   "id": "7f987426",
   "metadata": {},
   "outputs": [],
   "source": []
  }
 ],
 "metadata": {
  "kernelspec": {
   "display_name": "Python 3",
   "language": "python",
   "name": "python3"
  },
  "language_info": {
   "codemirror_mode": {
    "name": "ipython",
    "version": 3
   },
   "file_extension": ".py",
   "mimetype": "text/x-python",
   "name": "python",
   "nbconvert_exporter": "python",
   "pygments_lexer": "ipython3",
   "version": "3.8.8"
  }
 },
 "nbformat": 4,
 "nbformat_minor": 5
}
